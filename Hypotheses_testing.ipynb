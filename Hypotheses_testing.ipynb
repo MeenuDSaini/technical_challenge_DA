{
 "cells": [
  {
   "cell_type": "code",
   "execution_count": 5,
   "id": "50c08487",
   "metadata": {},
   "outputs": [],
   "source": [
    "import pandas as pd\n",
    "import numpy as np\n",
    "from scipy.stats import ttest_ind"
   ]
  },
  {
   "cell_type": "code",
   "execution_count": 3,
   "id": "c3fa1ffb",
   "metadata": {},
   "outputs": [
    {
     "data": {
      "text/html": [
       "<div>\n",
       "<style scoped>\n",
       "    .dataframe tbody tr th:only-of-type {\n",
       "        vertical-align: middle;\n",
       "    }\n",
       "\n",
       "    .dataframe tbody tr th {\n",
       "        vertical-align: top;\n",
       "    }\n",
       "\n",
       "    .dataframe thead th {\n",
       "        text-align: right;\n",
       "    }\n",
       "</style>\n",
       "<table border=\"1\" class=\"dataframe\">\n",
       "  <thead>\n",
       "    <tr style=\"text-align: right;\">\n",
       "      <th></th>\n",
       "      <th>distance</th>\n",
       "      <th>consume</th>\n",
       "      <th>speed</th>\n",
       "      <th>temp_inside</th>\n",
       "      <th>temp_outside</th>\n",
       "      <th>gas_type</th>\n",
       "      <th>AC</th>\n",
       "      <th>rain</th>\n",
       "      <th>sun</th>\n",
       "      <th>temp_diff</th>\n",
       "      <th>fuel_used</th>\n",
       "      <th>cost_of_trip</th>\n",
       "    </tr>\n",
       "  </thead>\n",
       "  <tbody>\n",
       "    <tr>\n",
       "      <th>0</th>\n",
       "      <td>28.0</td>\n",
       "      <td>5.0</td>\n",
       "      <td>26</td>\n",
       "      <td>21.5</td>\n",
       "      <td>12</td>\n",
       "      <td>E10</td>\n",
       "      <td>0</td>\n",
       "      <td>0</td>\n",
       "      <td>0</td>\n",
       "      <td>9.5</td>\n",
       "      <td>1.4000</td>\n",
       "      <td>2.758</td>\n",
       "    </tr>\n",
       "    <tr>\n",
       "      <th>1</th>\n",
       "      <td>12.0</td>\n",
       "      <td>4.2</td>\n",
       "      <td>30</td>\n",
       "      <td>21.5</td>\n",
       "      <td>13</td>\n",
       "      <td>E10</td>\n",
       "      <td>0</td>\n",
       "      <td>0</td>\n",
       "      <td>0</td>\n",
       "      <td>8.5</td>\n",
       "      <td>0.5040</td>\n",
       "      <td>0.993</td>\n",
       "    </tr>\n",
       "    <tr>\n",
       "      <th>2</th>\n",
       "      <td>11.2</td>\n",
       "      <td>5.5</td>\n",
       "      <td>38</td>\n",
       "      <td>21.5</td>\n",
       "      <td>15</td>\n",
       "      <td>E10</td>\n",
       "      <td>0</td>\n",
       "      <td>0</td>\n",
       "      <td>0</td>\n",
       "      <td>6.5</td>\n",
       "      <td>0.6160</td>\n",
       "      <td>1.214</td>\n",
       "    </tr>\n",
       "    <tr>\n",
       "      <th>3</th>\n",
       "      <td>12.9</td>\n",
       "      <td>3.9</td>\n",
       "      <td>36</td>\n",
       "      <td>21.5</td>\n",
       "      <td>14</td>\n",
       "      <td>E10</td>\n",
       "      <td>0</td>\n",
       "      <td>0</td>\n",
       "      <td>0</td>\n",
       "      <td>7.5</td>\n",
       "      <td>0.5031</td>\n",
       "      <td>0.991</td>\n",
       "    </tr>\n",
       "    <tr>\n",
       "      <th>4</th>\n",
       "      <td>18.5</td>\n",
       "      <td>4.5</td>\n",
       "      <td>46</td>\n",
       "      <td>21.5</td>\n",
       "      <td>15</td>\n",
       "      <td>E10</td>\n",
       "      <td>0</td>\n",
       "      <td>0</td>\n",
       "      <td>0</td>\n",
       "      <td>6.5</td>\n",
       "      <td>0.8325</td>\n",
       "      <td>1.640</td>\n",
       "    </tr>\n",
       "  </tbody>\n",
       "</table>\n",
       "</div>"
      ],
      "text/plain": [
       "   distance  consume  speed  temp_inside  temp_outside gas_type  AC  rain  \\\n",
       "0      28.0      5.0     26         21.5            12      E10   0     0   \n",
       "1      12.0      4.2     30         21.5            13      E10   0     0   \n",
       "2      11.2      5.5     38         21.5            15      E10   0     0   \n",
       "3      12.9      3.9     36         21.5            14      E10   0     0   \n",
       "4      18.5      4.5     46         21.5            15      E10   0     0   \n",
       "\n",
       "   sun  temp_diff  fuel_used  cost_of_trip  \n",
       "0    0        9.5     1.4000         2.758  \n",
       "1    0        8.5     0.5040         0.993  \n",
       "2    0        6.5     0.6160         1.214  \n",
       "3    0        7.5     0.5031         0.991  \n",
       "4    0        6.5     0.8325         1.640  "
      ]
     },
     "execution_count": 3,
     "metadata": {},
     "output_type": "execute_result"
    }
   ],
   "source": [
    "fuel_data = pd.read_csv('Cobify_clean_data.csv')\n",
    "fuel_data.head()"
   ]
  },
  {
   "cell_type": "markdown",
   "id": "e894fce9",
   "metadata": {},
   "source": [
    "1) Null Hypothesis (H0): The type of gas (SP98 or E10) has no significant effect on fuel consumption.\n",
    "   Alternative Hypothesis (H1): There is a significant difference in fuel consumption between SP98 and E10."
   ]
  },
  {
   "cell_type": "code",
   "execution_count": 6,
   "id": "7617a97d",
   "metadata": {},
   "outputs": [
    {
     "name": "stdout",
     "output_type": "stream",
     "text": [
      "T-statistic: -0.3126464352325148\n",
      "P-value: 0.7547214058885283\n",
      "Fail to reject the null hypothesis. The type of gas (SP98 or E10) has no significant effect on fuel consumption\n"
     ]
    }
   ],
   "source": [
    "SP98 = fuel_data[fuel_data['gas_type'] == 'SP98']['consume']\n",
    "E10 = fuel_data[fuel_data['gas_type'] == 'E10']['consume']\n",
    "\n",
    "# Perform independent samples t-test\n",
    "t_statistic, p_value = ttest_ind(SP98, E10, equal_var=False)\n",
    "\n",
    "# Print the results\n",
    "print(f'T-statistic: {t_statistic}\\nP-value: {p_value}')\n",
    "\n",
    "# Interpretation\n",
    "alpha = 0.05\n",
    "if p_value < alpha:\n",
    "    print(\"Reject the null hypothesis. There is a significant difference in fuel consumption between SP98 and E10\")\n",
    "else:\n",
    "    print(\"Fail to reject the null hypothesis. The type of gas (SP98 or E10) has no significant effect on fuel consumption\")"
   ]
  },
  {
   "cell_type": "markdown",
   "id": "1d767694",
   "metadata": {},
   "source": [
    "2) Null Hypothesis (H0): There is no significant difference in the cost of the trip between gas type (SPF98 and E10).\n",
    "   Alternative Hypothesis (H1): The cost of the trip is significantly different for gas type SPF98 compared to E10. \n",
    "\n"
   ]
  },
  {
   "cell_type": "code",
   "execution_count": 7,
   "id": "ff585f5a",
   "metadata": {},
   "outputs": [
    {
     "name": "stdout",
     "output_type": "stream",
     "text": [
      "T-statistic: 0.16631445262325048\n",
      "P-value: 0.8679966797676433\n",
      "Fail to reject the null hypothesis.There is no significant difference in the cost of the trip between gas type (SPF98 and E10).\n"
     ]
    }
   ],
   "source": [
    "SP98 = fuel_data[fuel_data['gas_type'] == 'SP98']['cost_of_trip']\n",
    "E10 = fuel_data[fuel_data['gas_type'] == 'E10']['cost_of_trip']\n",
    "\n",
    "# Perform independent samples t-test\n",
    "t_statistic, p_value = ttest_ind(SP98, E10, equal_var=False)\n",
    "\n",
    "# Print the results\n",
    "print(f'T-statistic: {t_statistic}\\nP-value: {p_value}')\n",
    "\n",
    "# Interpretation\n",
    "alpha = 0.05\n",
    "if p_value < alpha:\n",
    "    print(\"Reject the null hypothesis. There is a significant difference in cost of trip for gas type SP98 and E10.\")\n",
    "else:\n",
    "    print(\"Fail to reject the null hypothesis.There is no significant difference in the cost of the trip between gas type (SPF98 and E10).\")"
   ]
  },
  {
   "cell_type": "code",
   "execution_count": null,
   "id": "ea54f5f0",
   "metadata": {},
   "outputs": [],
   "source": []
  }
 ],
 "metadata": {
  "kernelspec": {
   "display_name": "Python 3 (ipykernel)",
   "language": "python",
   "name": "python3"
  },
  "language_info": {
   "codemirror_mode": {
    "name": "ipython",
    "version": 3
   },
   "file_extension": ".py",
   "mimetype": "text/x-python",
   "name": "python",
   "nbconvert_exporter": "python",
   "pygments_lexer": "ipython3",
   "version": "3.11.3"
  }
 },
 "nbformat": 4,
 "nbformat_minor": 5
}
